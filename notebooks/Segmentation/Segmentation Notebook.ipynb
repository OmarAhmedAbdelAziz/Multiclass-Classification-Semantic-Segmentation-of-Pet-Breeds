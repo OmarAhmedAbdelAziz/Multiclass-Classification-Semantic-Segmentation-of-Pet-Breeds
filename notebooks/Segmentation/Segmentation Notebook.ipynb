{
 "cells": [
  {
   "cell_type": "markdown",
   "metadata": {},
   "source": [
    "## Importing Libraries"
   ]
  },
  {
   "cell_type": "code",
   "execution_count": 2,
   "metadata": {},
   "outputs": [],
   "source": [
    "import os\n",
    "from glob import glob"
   ]
  },
  {
   "cell_type": "markdown",
   "metadata": {},
   "source": [
    "---"
   ]
  },
  {
   "cell_type": "markdown",
   "metadata": {},
   "source": [
    "## Importing Data for Understanding"
   ]
  },
  {
   "cell_type": "code",
   "execution_count": 3,
   "metadata": {},
   "outputs": [],
   "source": [
    "# Setting paths of the dataset\n",
    "image_dir = r\"C:\\Users\\omara\\Downloads\\Multiclass Classification & Semantic Segmentation of Pet Breeds\\data\\oxford-iiit-pet\\images\"  \n",
    "trimap_dir = r\"C:\\Users\\omara\\Downloads\\Multiclass Classification & Semantic Segmentation of Pet Breeds\\data\\oxford-iiit-pet\\annotations\\trimaps\"  \n",
    "\n",
    "# Making lists of all image and trimap files\n",
    "image_files = sorted(glob(os.path.join(image_dir, \"*.jpg\")))\n",
    "trimap_files = sorted(glob(os.path.join(trimap_dir, \"*.png\")))"
   ]
  },
  {
   "cell_type": "code",
   "execution_count": 4,
   "metadata": {},
   "outputs": [
    {
     "name": "stdout",
     "output_type": "stream",
     "text": [
      "Number of images: 7390\n",
      "Number of trimaps: 7390\n"
     ]
    }
   ],
   "source": [
    "print(f\"Number of images: {len(image_files)}\")\n",
    "print(f\"Number of trimaps: {len(trimap_files)}\")"
   ]
  },
  {
   "cell_type": "code",
   "execution_count": 6,
   "metadata": {},
   "outputs": [
    {
     "name": "stdout",
     "output_type": "stream",
     "text": [
      "Image: Abyssinian_1.jpg, Trimap: Abyssinian_1.png\n",
      "Image: Abyssinian_10.jpg, Trimap: Abyssinian_10.png\n",
      "Image: Abyssinian_100.jpg, Trimap: Abyssinian_100.png\n",
      "Image: Abyssinian_101.jpg, Trimap: Abyssinian_101.png\n",
      "Image: Abyssinian_102.jpg, Trimap: Abyssinian_102.png\n"
     ]
    }
   ],
   "source": [
    "# Checking if the names are matching or not\n",
    "for i in range(5):\n",
    "    img_name = os.path.basename(image_files[i])\n",
    "    trimap_name = os.path.basename(trimap_files[i])\n",
    "    print(f\"Image: {img_name}, Trimap: {trimap_name}\")"
   ]
  },
  {
   "cell_type": "markdown",
   "metadata": {},
   "source": [
    "---"
   ]
  },
  {
   "cell_type": "markdown",
   "metadata": {},
   "source": []
  }
 ],
 "metadata": {
  "kernelspec": {
   "display_name": "base",
   "language": "python",
   "name": "python3"
  },
  "language_info": {
   "codemirror_mode": {
    "name": "ipython",
    "version": 3
   },
   "file_extension": ".py",
   "mimetype": "text/x-python",
   "name": "python",
   "nbconvert_exporter": "python",
   "pygments_lexer": "ipython3",
   "version": "3.9.7"
  }
 },
 "nbformat": 4,
 "nbformat_minor": 2
}

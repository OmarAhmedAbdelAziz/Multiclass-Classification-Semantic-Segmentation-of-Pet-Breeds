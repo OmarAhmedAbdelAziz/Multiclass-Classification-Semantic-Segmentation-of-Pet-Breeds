{
 "cells": [
  {
   "cell_type": "markdown",
   "metadata": {},
   "source": [
    "## Importing Libraries"
   ]
  },
  {
   "cell_type": "markdown",
   "metadata": {},
   "source": [
    "We will add every library only when it is needed"
   ]
  },
  {
   "cell_type": "code",
   "execution_count": 2,
   "metadata": {},
   "outputs": [],
   "source": [
    "import os"
   ]
  },
  {
   "cell_type": "markdown",
   "metadata": {},
   "source": [
    "---"
   ]
  },
  {
   "cell_type": "markdown",
   "metadata": {},
   "source": [
    "## Importing Data for Reading"
   ]
  },
  {
   "cell_type": "markdown",
   "metadata": {},
   "source": [
    "We have two folders named (Images, Annotations)\n",
    "\n",
    "Images Folder:\n",
    "It contains only images, 7,393 images \n",
    "\n",
    "Annotations Folder:\n",
    "It conatins two folders names (xmls, trimaps) and three files (trainval.txt, test,txt, list,text)\n",
    "\n",
    "xmls is bounding boxes which is used for object detection\n",
    "\n",
    "trimaps is segements which is used for image segmentation\n",
    "\n",
    "the other three files explain the data and categorize them so the are used for classification \n",
    "\n",
    "We will use the three files now for our classification task then we will us trimaps for segmentation."
   ]
  },
  {
   "cell_type": "code",
   "execution_count": 3,
   "metadata": {},
   "outputs": [],
   "source": [
    "# Adding the path of the data of classification\n",
    "base_path = r\"C:\\Users\\omara\\Downloads\\Multiclass Classification & Semantic Segmentation of Pet Breeds\\data\\oxford-iiit-pet\"  \n",
    "images_dir = os.path.join(base_path, \"images\")\n",
    "annotations_dir = os.path.join(base_path, \"annotations\")\n",
    "\n",
    "# Reading the annotation files used for classification\n",
    "trainval_file = os.path.join(annotations_dir, \"trainval.txt\")\n",
    "test_file = os.path.join(annotations_dir, \"test.txt\")\n",
    "list_file = os.path.join(annotations_dir, \"list.txt\")"
   ]
  },
  {
   "cell_type": "markdown",
   "metadata": {},
   "source": [
    "---"
   ]
  }
 ],
 "metadata": {
  "kernelspec": {
   "display_name": "base",
   "language": "python",
   "name": "python3"
  },
  "language_info": {
   "codemirror_mode": {
    "name": "ipython",
    "version": 3
   },
   "file_extension": ".py",
   "mimetype": "text/x-python",
   "name": "python",
   "nbconvert_exporter": "python",
   "pygments_lexer": "ipython3",
   "version": "3.9.7"
  }
 },
 "nbformat": 4,
 "nbformat_minor": 2
}

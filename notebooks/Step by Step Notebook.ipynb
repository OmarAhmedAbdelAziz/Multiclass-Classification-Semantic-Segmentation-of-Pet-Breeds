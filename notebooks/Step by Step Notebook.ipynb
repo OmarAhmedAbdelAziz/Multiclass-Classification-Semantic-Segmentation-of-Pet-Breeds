{
 "cells": [
  {
   "cell_type": "markdown",
   "metadata": {},
   "source": [
    "## Importing Libraries"
   ]
  },
  {
   "cell_type": "markdown",
   "metadata": {},
   "source": [
    "We will add every library only when it is needed"
   ]
  },
  {
   "cell_type": "code",
   "execution_count": 4,
   "metadata": {},
   "outputs": [],
   "source": [
    "import os\n",
    "\n",
    "import pandas as pd"
   ]
  },
  {
   "cell_type": "markdown",
   "metadata": {},
   "source": [
    "---"
   ]
  },
  {
   "cell_type": "markdown",
   "metadata": {},
   "source": [
    "## Importing Data for Reading"
   ]
  },
  {
   "cell_type": "markdown",
   "metadata": {},
   "source": [
    "We have two folders named (Images, Annotations)\n",
    "\n",
    "Images Folder:\n",
    "It contains only images, 7,393 images \n",
    "\n",
    "Annotations Folder:\n",
    "It conatins two folders names (xmls, trimaps) and three files (trainval.txt, test,txt, list,text)\n",
    "\n",
    "xmls is bounding boxes which is used for object detection\n",
    "\n",
    "trimaps is segements which is used for image segmentation\n",
    "\n",
    "the other three files explain the data and categorize them so the are used for classification \n",
    "\n",
    "We will use the three files now for our classification task then we will us trimaps for segmentation."
   ]
  },
  {
   "cell_type": "code",
   "execution_count": 3,
   "metadata": {},
   "outputs": [],
   "source": [
    "# Adding the path of the data of classification\n",
    "base_path = r\"C:\\Users\\omara\\Downloads\\Multiclass Classification & Semantic Segmentation of Pet Breeds\\data\\oxford-iiit-pet\"  \n",
    "images_dir = os.path.join(base_path, \"images\")\n",
    "annotations_dir = os.path.join(base_path, \"annotations\")\n",
    "\n",
    "# Reading the annotation files used for classification\n",
    "trainval_file = os.path.join(annotations_dir, \"trainval.txt\")\n",
    "test_file = os.path.join(annotations_dir, \"test.txt\")\n",
    "list_file = os.path.join(annotations_dir, \"list.txt\")"
   ]
  },
  {
   "cell_type": "markdown",
   "metadata": {},
   "source": [
    "---"
   ]
  },
  {
   "cell_type": "markdown",
   "metadata": {},
   "source": [
    "## Understanding the Annotations Files in the Annotations Folder"
   ]
  },
  {
   "cell_type": "code",
   "execution_count": 5,
   "metadata": {},
   "outputs": [],
   "source": [
    "# Function for reading annotation files\n",
    "def read_annotation_file(file_path):\n",
    "    with open(file_path, 'r') as f:\n",
    "        lines = f.readlines()\n",
    "    \n",
    "    # Remove any comment line in the file\n",
    "    data_lines = [line.strip() for line in lines if not line.startswith('#')]\n",
    "    \n",
    "    # making the data dataframe to bmake it easy to be understood\n",
    "    data = []\n",
    "    for line in data_lines:\n",
    "        parts = line.split()\n",
    "        if len(parts) >= 4:  \n",
    "            image_name = parts[0]\n",
    "            class_id = int(parts[1])\n",
    "            species = int(parts[2])  \n",
    "            breed_id = int(parts[3])\n",
    "            data.append({\n",
    "                'image_name': image_name,\n",
    "                'class_id': class_id,\n",
    "                'species': species,\n",
    "                'breed_id': breed_id\n",
    "            })\n",
    "    \n",
    "    return pd.DataFrame(data)"
   ]
  },
  {
   "cell_type": "code",
   "execution_count": 8,
   "metadata": {},
   "outputs": [],
   "source": [
    "# Loading the annotations\n",
    "trainval_df = pd.DataFrame(read_annotation_file(trainval_file))\n",
    "test_df = pd.DataFrame(read_annotation_file(test_file))\n",
    "list_df = pd.DataFrame(read_annotation_file(list_file))"
   ]
  },
  {
   "cell_type": "code",
   "execution_count": 9,
   "metadata": {},
   "outputs": [
    {
     "name": "stdout",
     "output_type": "stream",
     "text": [
      "Training & Validation dataset size: 3680\n",
      "Test dataset size: 3669\n",
      "Total dataset size: 7349\n"
     ]
    }
   ],
   "source": [
    "# Showing the shape of the dataset\n",
    "print(f\"Training & Validation dataset size: {len(trainval_df)}\")\n",
    "print(f\"Test dataset size: {len(test_df)}\")\n",
    "print(f\"Total dataset size: {len(list_df)}\")"
   ]
  },
  {
   "cell_type": "code",
   "execution_count": null,
   "metadata": {},
   "outputs": [
    {
     "name": "stdout",
     "output_type": "stream",
     "text": [
      "Training dataset sample:\n"
     ]
    },
    {
     "data": {
      "text/html": [
       "<div>\n",
       "<style scoped>\n",
       "    .dataframe tbody tr th:only-of-type {\n",
       "        vertical-align: middle;\n",
       "    }\n",
       "\n",
       "    .dataframe tbody tr th {\n",
       "        vertical-align: top;\n",
       "    }\n",
       "\n",
       "    .dataframe thead th {\n",
       "        text-align: right;\n",
       "    }\n",
       "</style>\n",
       "<table border=\"1\" class=\"dataframe\">\n",
       "  <thead>\n",
       "    <tr style=\"text-align: right;\">\n",
       "      <th></th>\n",
       "      <th>image_name</th>\n",
       "      <th>class_id</th>\n",
       "      <th>species</th>\n",
       "      <th>breed_id</th>\n",
       "    </tr>\n",
       "  </thead>\n",
       "  <tbody>\n",
       "    <tr>\n",
       "      <th>0</th>\n",
       "      <td>Abyssinian_100</td>\n",
       "      <td>1</td>\n",
       "      <td>1</td>\n",
       "      <td>1</td>\n",
       "    </tr>\n",
       "    <tr>\n",
       "      <th>1</th>\n",
       "      <td>Abyssinian_101</td>\n",
       "      <td>1</td>\n",
       "      <td>1</td>\n",
       "      <td>1</td>\n",
       "    </tr>\n",
       "    <tr>\n",
       "      <th>2</th>\n",
       "      <td>Abyssinian_102</td>\n",
       "      <td>1</td>\n",
       "      <td>1</td>\n",
       "      <td>1</td>\n",
       "    </tr>\n",
       "    <tr>\n",
       "      <th>3</th>\n",
       "      <td>Abyssinian_103</td>\n",
       "      <td>1</td>\n",
       "      <td>1</td>\n",
       "      <td>1</td>\n",
       "    </tr>\n",
       "    <tr>\n",
       "      <th>4</th>\n",
       "      <td>Abyssinian_104</td>\n",
       "      <td>1</td>\n",
       "      <td>1</td>\n",
       "      <td>1</td>\n",
       "    </tr>\n",
       "  </tbody>\n",
       "</table>\n",
       "</div>"
      ],
      "text/plain": [
       "       image_name  class_id  species  breed_id\n",
       "0  Abyssinian_100         1        1         1\n",
       "1  Abyssinian_101         1        1         1\n",
       "2  Abyssinian_102         1        1         1\n",
       "3  Abyssinian_103         1        1         1\n",
       "4  Abyssinian_104         1        1         1"
      ]
     },
     "execution_count": 10,
     "metadata": {},
     "output_type": "execute_result"
    }
   ],
   "source": [
    "# Showing the training dataset overview\n",
    "print(\"Training dataset sample:\")\n",
    "trainval_df.head()"
   ]
  },
  {
   "cell_type": "code",
   "execution_count": null,
   "metadata": {},
   "outputs": [
    {
     "name": "stdout",
     "output_type": "stream",
     "text": [
      "Species distribution:\n"
     ]
    },
    {
     "data": {
      "text/plain": [
       "2    4978\n",
       "1    2371\n",
       "Name: species, dtype: int64"
      ]
     },
     "execution_count": 15,
     "metadata": {},
     "output_type": "execute_result"
    }
   ],
   "source": [
    "# Showing the species distribution \n",
    "print(\"Species distribution:\")\n",
    "list_df['species'].value_counts()  \n",
    "# 1 for cats 2 for dogs "
   ]
  },
  {
   "cell_type": "code",
   "execution_count": 22,
   "metadata": {},
   "outputs": [
    {
     "data": {
      "text/plain": [
       "species\n",
       "1    12\n",
       "2    25\n",
       "Name: breed_id, dtype: int64"
      ]
     },
     "execution_count": 22,
     "metadata": {},
     "output_type": "execute_result"
    }
   ],
   "source": [
    "# Showing the number of breeds for eachg specie\n",
    "unique_breeds_per_specie = list_df.groupby(\"species\")[\"breed_id\"].nunique()\n",
    "unique_breeds_per_specie"
   ]
  },
  {
   "cell_type": "code",
   "execution_count": 23,
   "metadata": {},
   "outputs": [
    {
     "name": "stdout",
     "output_type": "stream",
     "text": [
      "Breed distribution:\n"
     ]
    },
    {
     "data": {
      "text/plain": [
       "1     398\n",
       "2     400\n",
       "3     400\n",
       "4     384\n",
       "5     399\n",
       "6     390\n",
       "7     396\n",
       "8     400\n",
       "9     400\n",
       "10    400\n",
       "11    399\n",
       "12    400\n",
       "13    199\n",
       "14    200\n",
       "15    200\n",
       "16    196\n",
       "17    200\n",
       "18    200\n",
       "19    200\n",
       "20    200\n",
       "21    199\n",
       "22    200\n",
       "23    189\n",
       "24    200\n",
       "25    200\n",
       "Name: breed_id, dtype: int64"
      ]
     },
     "execution_count": 23,
     "metadata": {},
     "output_type": "execute_result"
    }
   ],
   "source": [
    "# Showing the breed distribution of cats and dogs \n",
    "print(\"Breed distribution:\")\n",
    "list_df['breed_id'].value_counts().sort_index()"
   ]
  },
  {
   "cell_type": "markdown",
   "metadata": {},
   "source": [
    "---"
   ]
  },
  {
   "cell_type": "code",
   "execution_count": null,
   "metadata": {},
   "outputs": [],
   "source": []
  }
 ],
 "metadata": {
  "kernelspec": {
   "display_name": "base",
   "language": "python",
   "name": "python3"
  },
  "language_info": {
   "codemirror_mode": {
    "name": "ipython",
    "version": 3
   },
   "file_extension": ".py",
   "mimetype": "text/x-python",
   "name": "python",
   "nbconvert_exporter": "python",
   "pygments_lexer": "ipython3",
   "version": "3.9.7"
  }
 },
 "nbformat": 4,
 "nbformat_minor": 2
}
